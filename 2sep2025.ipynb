{
  "nbformat": 4,
  "nbformat_minor": 0,
  "metadata": {
    "colab": {
      "provenance": [],
      "authorship_tag": "ABX9TyOPcEqh5zLrCEH2jLYb6tkp",
      "include_colab_link": true
    },
    "kernelspec": {
      "name": "python3",
      "display_name": "Python 3"
    },
    "language_info": {
      "name": "python"
    }
  },
  "cells": [
    {
      "cell_type": "markdown",
      "metadata": {
        "id": "view-in-github",
        "colab_type": "text"
      },
      "source": [
        "<a href=\"https://colab.research.google.com/github/CARLOSM419/py-1-CARLOSMIHAELGALLEGOS/blob/main/2sep2025.ipynb\" target=\"_parent\"><img src=\"https://colab.research.google.com/assets/colab-badge.svg\" alt=\"Open In Colab\"/></a>"
      ]
    },
    {
      "cell_type": "code",
      "execution_count": null,
      "metadata": {
        "id": "uifAybl_1IPW"
      },
      "outputs": [],
      "source": []
    },
    {
      "cell_type": "code",
      "source": [
        "################### TIPOS DE DATOS BASICOS #####################\n",
        "\n",
        "# Una variable es un espacio asignado en memoria RAM y que ocupa un tamaño dependiendo de su tipo de datos,\n",
        "# los tipos de datos básicos que implementa Python por defecto son los siguientes.\n",
        "\n",
        "#Números (Entero, float)\n",
        "contador:int = 0\n",
        "contador_1= 1\n",
        "\n",
        "numero_pi:float=3.14\n",
        "# Booleanos\n",
        "es_verdad:bool=True\n",
        "es_mentira:bool=False\n",
        "\n",
        "\n",
        "# String\n",
        "mi_nombre:str=\"CARLOS\"\n",
        "\n",
        "\n",
        "################### OPERADORES #####################\n",
        "\n",
        "# Un operador es un signo que utilizamos para señalar que operacion realizamos entre dos o más operandos, por ejemplo el operador de suma, el de resta,\n",
        "# multiplicación y otros más específicos de la programación\n",
        "\n",
        "################### OPERADORES ARITMETICOS #####################\n",
        "\n",
        "\n",
        "\n",
        "################### OPERADORES RELACIONALES #####################\n",
        "\n",
        "\n",
        "################### OPERADORES LOGICOS #####################\n",
        "\n",
        "\n",
        "################### OPERADORES DE PERTENENCIA #####################\n",
        "\n",
        "################### OPERADORES DE IDENTIDAD #####################"
      ],
      "metadata": {
        "id": "8ElEgD540AnZ"
      },
      "execution_count": 14,
      "outputs": []
    },
    {
      "cell_type": "code",
      "source": [
        "\n",
        "type(mi_nombre)\n"
      ],
      "metadata": {
        "colab": {
          "base_uri": "https://localhost:8080/"
        },
        "id": "4nQFwVK91PS5",
        "outputId": "00efb6df-04b7-4f2b-e760-43b871579c92"
      },
      "execution_count": 16,
      "outputs": [
        {
          "output_type": "execute_result",
          "data": {
            "text/plain": [
              "str"
            ]
          },
          "metadata": {},
          "execution_count": 16
        }
      ]
    }
  ]
}
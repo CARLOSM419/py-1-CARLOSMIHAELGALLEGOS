{
  "nbformat": 4,
  "nbformat_minor": 0,
  "metadata": {
    "colab": {
      "provenance": [],
      "authorship_tag": "ABX9TyMsq7gC8107SgMhJcp6RIjT",
      "include_colab_link": true
    },
    "kernelspec": {
      "name": "python3",
      "display_name": "Python 3"
    },
    "language_info": {
      "name": "python"
    }
  },
  "cells": [
    {
      "cell_type": "markdown",
      "metadata": {
        "id": "view-in-github",
        "colab_type": "text"
      },
      "source": [
        "<a href=\"https://colab.research.google.com/github/CARLOSM419/py-1-CARLOSMIHAELGALLEGOS/blob/main/py-2-GallegosCarlos.ipynb\" target=\"_parent\"><img src=\"https://colab.research.google.com/assets/colab-badge.svg\" alt=\"Open In Colab\"/></a>"
      ]
    },
    {
      "cell_type": "code",
      "execution_count": null,
      "metadata": {
        "id": "4Amjo6fzF6s1"
      },
      "outputs": [],
      "source": [
        "#Práctica de Analítica de Datos: Tipos y Operaciones Básicas\n",
        "\n",
        "#Objetivo: Consolidar el conocimiento sobre los tipos de datos (numéricos, cadenas, booleanos), y aplicar operaciones aritméticas, relacionales y lógicas para resolver problemas de análisis de datos sencillos.\n",
        "\n",
        "#Parte 1. Tipos de datos\n",
        "\n",
        "#\tDefine tres variables:\n",
        "#\t\t- Un número entero (int) con tu edad.\n",
        "edad_es:int = 18\n",
        "#\t\t- Un número decimal (float) con tu altura en metros.\n",
        "altura:float =1.67\n",
        "#\t\t- Una cadena de texto (str) con tu nombre completo.\n",
        "nombre:str = \"CARLOS\"\n",
        "\n",
        "\n",
        "#\tPregunta: ¿qué función en Python permite conocer el tipo de dato de una variable? Úsala para mostrar los resultados.\n",
        "type(nombre)\n",
        "#Parte 2. Operaciones aritméticas\n",
        "\n",
        "#\tSupón que compras 3 productos con precios: 125.50, 89.99 y 39.75.\n",
        "#\t\t- Calcula el total de la compra.\n",
        "#\t\t- Aplica un descuento del 15%.\n",
        "#\t\t- Calcula el IVA del 16% sobre el precio con descuento.\n",
        "#\t\t- Obtén el total final a pagar.\n",
        "\n",
        "total_compra = 125.50 +89.99 +39.75\n",
        "print(total_compra)\n",
        "descuento = 0.15\n",
        "total_con_descuento = total_compra * (1 - descuento)\n",
        "print(total_con_descuento\n",
        "      )\n",
        "iva = 0.16\n",
        "total_con_iva = total_con_descuento * (1 + iva)\n",
        "print(total_con_iva)\n",
        "\n",
        "\n",
        "\n",
        "#\t¿Qué operador usarías para obtener el residuo de dividir 125 entre 12?\n",
        "#\t\tEscríbelo y ejecútalo en código.\n",
        "residuo = 125 % 12\n",
        "print(residuo)\n",
        "\n",
        "#Parte 3. Operaciones relacionales\n",
        "\n",
        "#\tCon los datos anteriores:\n",
        "#\t\t- Verifica si tu edad es mayor a 18.\n",
        "#\t\t- Comprueba si el precio más alto es mayor que 100.\n",
        "#\t\t- Evalúa si el total final de la compra es menor o igual a 200.\n",
        "edad=int(input(\"su edad?\"))\n",
        "if edad >= 18:\n",
        " print(\"mayor de edad\")\n",
        "else:\n",
        " print(\"menor de edad\")\n",
        "precio_alto_mayor_a_100 = max(125.50, 89.99, 39.75) > 100\n",
        "print(precio_alto_mayor_a_100)\n",
        "total_menor_o_igual_a_200 = total_con_iva <= 200\n",
        "print(total_menor_o_igual_a_200)\n",
        "\n",
        "#Parte 4. Operaciones lógicas\n",
        "\n",
        "#\tCrea dos variables booleanas:\n",
        "#\t\t- pago_tarjeta = True\n",
        "#\t\t- tiene_descuento = False\n",
        "#\t\t- Evalúa las siguientes expresiones:\n",
        "#\t\t- ¿El cliente pagó con tarjeta y tiene descuento?\n",
        "#\t\t- ¿El cliente pagó con tarjeta o tiene descuento?\n",
        "#\t\t- Niega el valor de tiene_descuento.\n",
        "pago_tarjeta = True\n",
        "tiene_descuento = False\n",
        "print(pago_tarjeta and tiene_descuento)\n",
        "print(pago_tarjeta or tiene_descuento)\n",
        "print(not tiene_descuento)\n",
        "\n",
        "\n",
        "#Parte 5. Integración\n",
        "#\t\tRedacta un programa en Python que:\n",
        " #   \t-\tSolicite al usuario:\n",
        "\t#\t\t\t- Edad\n",
        "\t#\t\t\t- Altura\n",
        "\t#\t\t\t- Monto de una compra\n",
        "\t#\tMuestre en pantalla:\n",
        "\t#\t\t\t- El tipo de cada dato ingresado.\n",
        "\t#\t\t\t- Si el usuario es mayor de edad.\n",
        "\t#\t\t\t- Si la compra excede los $500.\n",
        "\t#\t\t\t- Si el usuario es mayor de edad y su compra excede $500.\n",
        "edad=int(input(\"Ingrese su edad: \"))\n",
        "altura=float(input(\"Ingrese su altura: \"))\n",
        "monto_compra=float(input(\"Ingrese el monto de su compra: \"))\n",
        "print(type(edad))\n",
        "print(type(altura))\n",
        "print(type(monto_compra))\n",
        "print(edad >= 18)\n",
        "print(monto_compra > 500)\n",
        "print(edad >= 18 and monto_compra > 500)\n",
        "\n"
      ]
    },
    {
      "cell_type": "code",
      "source": [
        "edad=int(input(\"Ingrese su edad: \"))\n",
        "altura=float(input(\"Ingrese su altura: \"))\n",
        "monto_compra=float(input(\"Ingrese el monto de su compra: \"))\n",
        "print(type(edad))\n",
        "print(type(altura))\n",
        "print(type(monto_compra))\n",
        "print(edad >= 18)\n",
        "print(monto_compra > 500)\n",
        "print(edad >= 18 and monto_compra > 500)"
      ],
      "metadata": {
        "colab": {
          "base_uri": "https://localhost:8080/"
        },
        "id": "qUcFlPZFN5cR",
        "outputId": "ef278292-87d9-485f-9a8e-2611a4751539"
      },
      "execution_count": null,
      "outputs": [
        {
          "output_type": "stream",
          "name": "stdout",
          "text": [
            "Ingrese su edad: 18\n",
            "Ingrese su altura: 1.70\n",
            "Ingrese el monto de su compra: 1000\n",
            "<class 'int'>\n",
            "<class 'float'>\n",
            "<class 'float'>\n",
            "True\n",
            "True\n",
            "True\n"
          ]
        }
      ]
    },
    {
      "cell_type": "code",
      "source": [
        "pago_tarjeta = True\n",
        "tiene_descuento = False\n",
        "print(pago_tarjeta and tiene_descuento)\n",
        "print(pago_tarjeta or tiene_descuento)\n",
        "print(not tiene_descuento)"
      ],
      "metadata": {
        "colab": {
          "base_uri": "https://localhost:8080/"
        },
        "id": "bgZK_HAqNw6i",
        "outputId": "f56a802d-8e9a-435e-c619-11ae81350cdb"
      },
      "execution_count": null,
      "outputs": [
        {
          "output_type": "stream",
          "name": "stdout",
          "text": [
            "False\n",
            "True\n",
            "True\n"
          ]
        }
      ]
    },
    {
      "cell_type": "code",
      "source": [
        "precio_alto_mayor_a_100 = max(125.50, 89.99, 39.75) > 100\n",
        "precio_alto_mayor_a_100"
      ],
      "metadata": {
        "colab": {
          "base_uri": "https://localhost:8080/"
        },
        "id": "jLg-pQq6Nl_k",
        "outputId": "833135e3-60ae-45fb-dbbe-de49eb162717"
      },
      "execution_count": null,
      "outputs": [
        {
          "output_type": "execute_result",
          "data": {
            "text/plain": [
              "True"
            ]
          },
          "metadata": {},
          "execution_count": 27
        }
      ]
    },
    {
      "cell_type": "code",
      "source": [
        "edad=int(input(\"su edad?\"))"
      ],
      "metadata": {
        "colab": {
          "base_uri": "https://localhost:8080/"
        },
        "id": "vE9Rv5tiNf6M",
        "outputId": "38fda496-e9ea-4c58-c59a-ed6488fee386"
      },
      "execution_count": null,
      "outputs": [
        {
          "name": "stdout",
          "output_type": "stream",
          "text": [
            "su edad?19\n"
          ]
        }
      ]
    },
    {
      "cell_type": "code",
      "source": [
        "residuo = 125 % 12\n",
        "residuo"
      ],
      "metadata": {
        "colab": {
          "base_uri": "https://localhost:8080/"
        },
        "id": "8lEZGNoSNVFW",
        "outputId": "6722d09d-2223-42dd-aed5-98d6028a22f3"
      },
      "execution_count": null,
      "outputs": [
        {
          "output_type": "execute_result",
          "data": {
            "text/plain": [
              "5"
            ]
          },
          "metadata": {},
          "execution_count": 23
        }
      ]
    },
    {
      "cell_type": "code",
      "source": [
        "type(nombre)"
      ],
      "metadata": {
        "colab": {
          "base_uri": "https://localhost:8080/"
        },
        "id": "8BlP8qfqMuNU",
        "outputId": "2c42e05a-80d0-4c3f-8721-387466c26339"
      },
      "execution_count": null,
      "outputs": [
        {
          "output_type": "execute_result",
          "data": {
            "text/plain": [
              "str"
            ]
          },
          "metadata": {},
          "execution_count": 17
        }
      ]
    },
    {
      "cell_type": "code",
      "source": [
        "edad_es:int = 18\n",
        "edad_es"
      ],
      "metadata": {
        "colab": {
          "base_uri": "https://localhost:8080/"
        },
        "id": "jBToZnkGMKYV",
        "outputId": "bacb3d0d-545b-4f33-ffce-d05dcb6de8c1"
      },
      "execution_count": null,
      "outputs": [
        {
          "output_type": "execute_result",
          "data": {
            "text/plain": [
              "18"
            ]
          },
          "metadata": {},
          "execution_count": 12
        }
      ]
    },
    {
      "cell_type": "code",
      "source": [
        "total_compra = 125.50 +89.99 +39.75\n",
        "total_compra"
      ],
      "metadata": {
        "colab": {
          "base_uri": "https://localhost:8080/"
        },
        "id": "NNN7craDNHrB",
        "outputId": "099d67d8-a385-4e27-f097-0495ee7c35e1"
      },
      "execution_count": null,
      "outputs": [
        {
          "output_type": "execute_result",
          "data": {
            "text/plain": [
              "255.24"
            ]
          },
          "metadata": {},
          "execution_count": 21
        }
      ]
    },
    {
      "cell_type": "code",
      "source": [
        "altura:float =1.67\n",
        "altura"
      ],
      "metadata": {
        "colab": {
          "base_uri": "https://localhost:8080/"
        },
        "id": "KHgmHEBkMS4M",
        "outputId": "7c7d2982-5f3d-46e3-e46c-4d1b34780593"
      },
      "execution_count": null,
      "outputs": [
        {
          "output_type": "execute_result",
          "data": {
            "text/plain": [
              "1.67"
            ]
          },
          "metadata": {},
          "execution_count": 14
        }
      ]
    },
    {
      "cell_type": "code",
      "source": [
        "nombre:str = \"CARLOS\"\n",
        "nombre"
      ],
      "metadata": {
        "colab": {
          "base_uri": "https://localhost:8080/",
          "height": 35
        },
        "id": "iOgcJ8M_MeKE",
        "outputId": "42e7638d-8745-442f-8dca-1841ee606dbb"
      },
      "execution_count": null,
      "outputs": [
        {
          "output_type": "execute_result",
          "data": {
            "text/plain": [
              "'CARLOS'"
            ],
            "application/vnd.google.colaboratory.intrinsic+json": {
              "type": "string"
            }
          },
          "metadata": {},
          "execution_count": 16
        }
      ]
    }
  ]
}
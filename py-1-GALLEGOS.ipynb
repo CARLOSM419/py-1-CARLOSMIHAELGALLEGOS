{
  "cells": [
    {
      "cell_type": "markdown",
      "metadata": {
        "id": "view-in-github",
        "colab_type": "text"
      },
      "source": [
        "<a href=\"https://colab.research.google.com/github/CARLOSM419/py-1-CARLOSMIHAELGALLEGOS/blob/main/py-1-GALLEGOS.ipynb\" target=\"_parent\"><img src=\"https://colab.research.google.com/assets/colab-badge.svg\" alt=\"Open In Colab\"/></a>"
      ]
    },
    {
      "cell_type": "code",
      "source": [
        "#Code-Lab Jueves de Programas en acción\n",
        "#serie del 1 - 100\n",
        "#en cada repitición , i toma el valor de la secuencia\n",
        "for i in range (1,11):\n",
        "  print(i) # imprime el valor 'i'"
      ],
      "metadata": {
        "colab": {
          "base_uri": "https://localhost:8080/"
        },
        "id": "CcwfFHxqM0YX",
        "outputId": "0a68ccae-ad8a-4258-ffc9-37fbcc87b247"
      },
      "execution_count": 2,
      "outputs": [
        {
          "output_type": "stream",
          "name": "stdout",
          "text": [
            "1\n",
            "2\n",
            "3\n",
            "4\n",
            "5\n",
            "6\n",
            "7\n",
            "8\n",
            "9\n",
            "10\n"
          ]
        }
      ]
    },
    {
      "cell_type": "code",
      "source": [
        "#serie del 1-100 solo pares , con for\n",
        "#la secuencia inicia en 2\n",
        "for i in range (2,11,2):#11 es el limite , solo no lo imprime\n",
        "  print(i)#imprime el valor 'i'"
      ],
      "metadata": {
        "colab": {
          "base_uri": "https://localhost:8080/"
        },
        "id": "0LkV5CBYO0Xm",
        "outputId": "ede01e16-2989-47dc-b981-988abaa1db48"
      },
      "execution_count": 4,
      "outputs": [
        {
          "output_type": "stream",
          "name": "stdout",
          "text": [
            "2\n",
            "4\n",
            "6\n",
            "8\n",
            "10\n"
          ]
        }
      ]
    },
    {
      "cell_type": "code",
      "source": [
        "#serie del 1-10 solo impares\n",
        "# empieza en 1, se detiene en 9 , avanzando de dos en dos\n",
        "for i in range (1,11,2):\n",
        "  print(i)#imprime el valor 'i'"
      ],
      "metadata": {
        "colab": {
          "base_uri": "https://localhost:8080/"
        },
        "id": "qeX9sUdBP_ii",
        "outputId": "04c27432-4991-4e5e-8d6f-167251cdbb6b"
      },
      "execution_count": 6,
      "outputs": [
        {
          "output_type": "stream",
          "name": "stdout",
          "text": [
            "1\n",
            "3\n",
            "5\n",
            "7\n",
            "9\n"
          ]
        }
      ]
    },
    {
      "cell_type": "code",
      "source": [
        "# Capturar una cadena de texto\n",
        "cadena = input(\"Introduce una cadena de texto: \")\n",
        "\n",
        "# Transformar la cadena a mayúsculas\n",
        "cadena_mayusculas = cadena.upper()\n",
        "\n",
        "# Imprimir la cadena transformada\n",
        "print(\"La cadena en mayúsculas es:\", cadena_mayusculas)"
      ],
      "metadata": {
        "colab": {
          "base_uri": "https://localhost:8080/"
        },
        "id": "vhcWhzKmR_di",
        "outputId": "a76c5445-d5c5-4330-9584-38ec33bc3591"
      },
      "execution_count": 7,
      "outputs": [
        {
          "output_type": "stream",
          "name": "stdout",
          "text": [
            "Introduce una cadena de texto: carlos\n",
            "La cadena en mayúsculas es: CARLOS\n"
          ]
        }
      ]
    }
  ],
  "metadata": {
    "colab": {
      "toc_visible": true,
      "provenance": [],
      "include_colab_link": true
    },
    "kernelspec": {
      "display_name": "Python 3",
      "name": "python3"
    }
  },
  "nbformat": 4,
  "nbformat_minor": 0
}